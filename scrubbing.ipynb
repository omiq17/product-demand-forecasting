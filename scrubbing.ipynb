{
 "cells": [
  {
   "cell_type": "code",
   "execution_count": 1,
   "metadata": {},
   "outputs": [],
   "source": [
    "# Import required libraries\n",
    "import pandas as pd\n",
    "import numpy as np"
   ]
  },
  {
   "cell_type": "code",
   "execution_count": 2,
   "metadata": {},
   "outputs": [],
   "source": [
    "# Load the original dataset\n",
    "file_path = \"D:/NOTEBOOK/e-commerce-scrubbed-data.xlsx\"\n",
    "df = pd.read_excel(file_path, sheet_name=\"Scrubbed Data\")"
   ]
  },
  {
   "cell_type": "code",
   "execution_count": 3,
   "metadata": {},
   "outputs": [],
   "source": [
    "# 1. Filter status by 'complete' and 'received'\n",
    "df = df[df['status'].isin(['complete', 'received'])]\n",
    "\n",
    "# 2. Filter qty_ordered < 100\n",
    "df = df[df['qty_ordered'] < 100]\n",
    "\n",
    "# 3. Keep top 3 categories\n",
    "# First, get the top 3 categories by total quantity\n",
    "top_3_categories = (\n",
    "    df.groupby('category_name_1')['qty_ordered']\n",
    "    .sum()\n",
    "    .sort_values(ascending=False)\n",
    "    .head(3)\n",
    "    .index\n",
    ")\n",
    "\n",
    "# Filter the dataframe to keep only top 3 categories\n",
    "df = df[df['category_name_1'].isin(top_3_categories)]"
   ]
  },
  {
   "cell_type": "code",
   "execution_count": 4,
   "metadata": {},
   "outputs": [
    {
     "name": "stdout",
     "output_type": "stream",
     "text": [
      "Dataset Information after filtering:\n",
      "Total number of rows: 130653\n",
      "Number of unique categories: 3\n",
      "\n",
      "Categories included:\n",
      "[\"Men's Fashion\", 'Mobiles & Tablets', 'Superstore']\n",
      "\n",
      "Status distribution:\n",
      "status\n",
      "complete    100118\n",
      "received     30535\n",
      "Name: count, dtype: int64\n",
      "\n",
      "Quantity ordered distribution:\n",
      "count    130653.000000\n",
      "mean          1.233014\n",
      "std           0.974926\n",
      "min           1.000000\n",
      "25%           1.000000\n",
      "50%           1.000000\n",
      "75%           1.000000\n",
      "max          72.000000\n",
      "Name: qty_ordered, dtype: float64\n",
      "\n",
      "Filtered dataset saved to: D:/NOTEBOOK/e-commerce-scrubbed-data-filtered.xlsx\n"
     ]
    }
   ],
   "source": [
    "# Print some information about the filtered dataset\n",
    "print(\"Dataset Information after filtering:\")\n",
    "print(f\"Total number of rows: {len(df)}\")\n",
    "print(f\"Number of unique categories: {df['category_name_1'].nunique()}\")\n",
    "print(\"\\nCategories included:\")\n",
    "print(top_3_categories.tolist())\n",
    "print(\"\\nStatus distribution:\")\n",
    "print(df['status'].value_counts())\n",
    "print(\"\\nQuantity ordered distribution:\")\n",
    "print(df['qty_ordered'].describe())\n",
    "\n",
    "# Save the filtered dataset to a new Excel file\n",
    "output_path = \"D:/NOTEBOOK/e-commerce-scrubbed-data-filtered.xlsx\"\n",
    "df.to_excel(output_path, sheet_name=\"Filtered Data\", index=False)\n",
    "print(f\"\\nFiltered dataset saved to: {output_path}\")"
   ]
  }
 ],
 "metadata": {
  "kernelspec": {
   "display_name": ".venv",
   "language": "python",
   "name": "python3"
  },
  "language_info": {
   "codemirror_mode": {
    "name": "ipython",
    "version": 3
   },
   "file_extension": ".py",
   "mimetype": "text/x-python",
   "name": "python",
   "nbconvert_exporter": "python",
   "pygments_lexer": "ipython3",
   "version": "3.11.0"
  }
 },
 "nbformat": 4,
 "nbformat_minor": 2
}
